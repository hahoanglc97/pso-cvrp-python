{
 "cells": [
  {
   "cell_type": "code",
   "execution_count": 3,
   "metadata": {
    "pycharm": {
     "name": "#%%\n"
    }
   },
   "outputs": [
    {
     "data": {
      "image/png": "[encoded data removed]",
      "text/plain": [
       "<Figure size 432x288 with 1 Axes>"
      ]
     },
     "metadata": {
      "needs_background": "light"
     },
     "output_type": "display_data"
    }
   ],
   "source": [
    "\n",
    "# importing package\n",
    "import matplotlib.pyplot as plt\n",
    "\n",
    "# create data\n",
    "x = [10,20,30,40,50]\n",
    "y = [30,30,30,30,30]\n",
    "\n",
    "# plot lines\n",
    "plt.plot(x, y, label = \"line 1\", )\n",
    "plt.plot(y, x, label = \"line 2\")\n",
    "# plt.legend()\n",
    "plt.show()"
   ]
  },
  {
   "cell_type": "code",
   "execution_count": 10,
   "metadata": {
    "pycharm": {
     "name": "#%%\n"
    }
   },
   "outputs": [
    {
     "name": "stdout",
     "output_type": "stream",
     "text": [
      "Files and directories in ' /home/hahoang/Project/seminar/pso-cvrp-python/data-test/A ' :\n",
      "A-n32-k5.vrp\n",
      "A-n33-k5.vrp\n",
      "A-n33-k6.vrp\n",
      "A-n34-k5.vrp\n",
      "A-n36-k5.vrp\n",
      "A-n37-k5.vrp\n",
      "A-n37-k6.vrp\n",
      "A-n38-k5.vrp\n",
      "A-n39-k5.vrp\n",
      "A-n39-k6.vrp\n",
      "A-n44-k6.vrp\n",
      "A-n45-k6.vrp\n",
      "A-n45-k7.vrp\n",
      "A-n46-k7.vrp\n",
      "A-n48-k7.vrp\n",
      "A-n53-k7.vrp\n",
      "A-n54-k7.vrp\n",
      "A-n55-k9.vrp\n",
      "A-n60-k9.vrp\n",
      "A-n61-k9.vrp\n",
      "A-n62-k8.vrp\n",
      "A-n63-k10.vrp\n",
      "A-n63-k9.vrp\n",
      "A-n64-k9.vrp\n",
      "A-n65-k9.vrp\n",
      "A-n69-k9.vrp\n",
      "A-n80-k10.vrp\n",
      "27\n"
     ]
    }
   ],
   "source": [
    "\n",
    "# import OS module\n",
    "import os\n",
    "\n",
    "# Get the list of all files and directories\n",
    "path = \"/home/hahoang/Project/seminar/pso-cvrp-python/data-test/A\"\n",
    "dir_list = os.listdir(path)\n",
    "\n",
    "print(\"Files and directories in '\", path, \"' :\")\n",
    "count = 0;\n",
    "for i in sorted(dir_list):\n",
    "    if '.vrp' in str(i):\n",
    "        print(i)\n",
    "        count = count+1\n",
    "print(count)"
   ]
  },
  {
   "cell_type": "code",
   "execution_count": 12,
   "metadata": {
    "pycharm": {
     "name": "#%%\n"
    }
   },
   "outputs": [
    {
     "name": "stdout",
     "output_type": "stream",
     "text": [
      "0\n",
      "1\n",
      "2\n",
      "3\n",
      "4\n",
      "5\n",
      "6\n",
      "7\n",
      "8\n",
      "9\n"
     ]
    }
   ],
   "source": [
    "for i in range(0, 10): print(i)"
   ]
  },
  {
   "cell_type": "code",
   "execution_count": 17,
   "metadata": {
    "pycharm": {
     "name": "#%%\n"
    }
   },
   "outputs": [
    {
     "name": "stdout",
     "output_type": "stream",
     "text": [
      "35.6\n"
     ]
    }
   ],
   "source": [
    "import numpy\n",
    "list1 = [10, 20, 4, 45, 99]\n",
    "list1.sort()\n",
    "print(numpy.mean(list1))"
   ]
  },
  {
   "cell_type": "code",
   "execution_count": 14,
   "metadata": {
    "pycharm": {
     "name": "#%%\n"
    }
   },
   "outputs": [
    {
     "name": "stdout",
     "output_type": "stream",
     "text": [
      "[[], [], [], [], [], [], [], [], [], []]\n"
     ]
    }
   ],
   "source": [
    "list_fitness = [[] for i in range(0, 10)]\n",
    "print(list_fitness)"
   ]
  },
  {
   "cell_type": "code",
   "execution_count": 34,
   "metadata": {
    "pycharm": {
     "name": "#%%\n"
    }
   },
   "outputs": [
    {
     "name": "stdout",
     "output_type": "stream",
     "text": [
      "3450\n",
      "5693\n",
      "4529\n",
      "6007\n",
      "6117\n",
      "--------------------------------\n",
      "3566\n",
      "5943\n",
      "4658\n",
      "6226\n",
      "6172\n",
      "--------------------------------\n",
      "3510\n",
      "5806\n",
      "4598\n",
      "6119\n",
      "6143\n",
      "--------------------------------\n",
      "38\n",
      "94\n",
      "45\n",
      "78\n",
      "20\n",
      "--------------------------------\n"
     ]
    }
   ],
   "source": [
    "f = open(\"result_M_no.txt\", \"r\")\n",
    "data = f.readlines()\n",
    "a = []\n",
    "b = []\n",
    "c = []\n",
    "d = []\n",
    "for i in data:\n",
    "    if \"Best\" in i:\n",
    "        a.append(round(float(i.split(':')[1].replace(' ',''))))\n",
    "    elif \"Worst\" in i:\n",
    "        b.append(round(float(i.split(':')[1].replace(' ',''))))\n",
    "    elif \"Average\" in i:\n",
    "        c.append(round(float(i.split(':')[1].replace(' ',''))))\n",
    "    elif \"Standard\" in i:\n",
    "        d.append(round(float(i.split(':')[1].replace(' ',''))))\n",
    "\n",
    "for j in a:\n",
    "    print(j)\n",
    "print('--------------------------------')\n",
    "for j in b:\n",
    "    print(j)\n",
    "print('--------------------------------')\n",
    "for j in c:\n",
    "    print(j)\n",
    "print('--------------------------------')\n",
    "for j in d:\n",
    "    print(j)\n",
    "print('--------------------------------')\n",
    "f.close()"
   ]
  },
  {
   "cell_type": "markdown",
   "metadata": {
    "pycharm": {
     "name": "#%% md\n"
    }
   },
   "source": []
  },
  {
   "cell_type": "markdown",
   "metadata": {
    "pycharm": {
     "name": "#%% md\n"
    }
   },
   "source": []
  }
 ],
 "metadata": {
  "kernelspec": {
   "display_name": "Python 3 (ipykernel)",
   "language": "python",
   "name": "python3"
  },
  "language_info": {
   "codemirror_mode": {
    "name": "ipython",
    "version": 3
   },
   "file_extension": ".py",
   "mimetype": "text/x-python",
   "name": "python",
   "nbconvert_exporter": "python",
   "pygments_lexer": "ipython3",
   "version": "3.7.13"
  }
 },
 "nbformat": 4,
 "nbformat_minor": 1
}